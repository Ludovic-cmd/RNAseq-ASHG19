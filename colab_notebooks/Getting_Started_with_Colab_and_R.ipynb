{
  "nbformat": 4,
  "nbformat_minor": 0,
  "metadata": {
    "colab": {
      "name": "Getting Started with Colab and R",
      "version": "0.3.2",
      "provenance": [],
      "collapsed_sections": [],
      "toc_visible": true,
      "include_colab_link": true
    },
    "language_info": {
      "codemirror_mode": "r",
      "file_extension": ".r",
      "mimetype": "text/x-r-source",
      "name": "R",
      "pygments_lexer": "r",
      "version": "3.3.1"
    },
    "kernelspec": {
      "display_name": "R",
      "language": "R",
      "name": "ir"
    }
  },
  "cells": [
    {
      "cell_type": "markdown",
      "metadata": {
        "id": "view-in-github",
        "colab_type": "text"
      },
      "source": [
        "<a href=\"https://colab.research.google.com/github/c-mertes/RNAseq-ASHG19/blob/master/colab_notebooks/Getting_Started_with_Colab_and_R.ipynb\" target=\"_parent\"><img src=\"https://colab.research.google.com/assets/colab-badge.svg\" alt=\"Open In Colab\"/></a>"
      ]
    },
    {
      "cell_type": "markdown",
      "metadata": {
        "id": "J9zCQmgUjsFa",
        "colab_type": "text"
      },
      "source": [
        "# Table of content\n",
        "\n",
        "* [R Notebooks in Google Colab](#rnote-colab)\n",
        "  * [Enable editing by making a copy](#make-copy)\n",
        "  * [Code cells and execution](#code-cell)\n",
        "  * [Text cells](#text-cell)\n",
        "  * [Addin and moving cells](#adding-cells)\n",
        "* [Setup R environment](#setup-r)\n",
        "* [OUTRIDER example](#outrider-example)\n",
        "* [Exercise](#Exercise)"
      ]
    },
    {
      "cell_type": "markdown",
      "metadata": {
        "id": "zpKzgRL8PTxG",
        "colab_type": "text"
      },
      "source": [
        "# R Notebooks in Google Colab <a name=\"rnote-colab\"></a>\n",
        "\n",
        "We will use IR notebooks throughout this workshop to run code and visualize results. IR notebooks are similar to IPython notebooks. It combines documentation with code in a single document. If you know already how to use notebooks please skip to the [OUTRIDER example](#outrider-example). Since we will extensively use R/Bioconductor packages it is helpful but not needed to have some basic knowledge of programming in R. To get started with R have a look here \n",
        "\n",
        "A notebook is a list of cells. Cells contain either explanatory text (text cells) or executable code (code cells) and its output. Click a cell to select/edit it.\n",
        "\n",
        "The notebook and code is run on a virtual maschine hosted by Google.\n",
        "\n",
        "For more details on how to use Google Colab and IPython notebooks please refer to the [Colab docs](https://colab.research.google.com/notebooks/welcome.ipynb) and the [IPyhton notebook docs](https://jupyter.org/)."
      ]
    },
    {
      "cell_type": "markdown",
      "metadata": {
        "id": "64s5TFmDJ6IV",
        "colab_type": "text"
      },
      "source": [
        "## Enable editing by making a copy <a name=\"make-copy\"></a>\n",
        "\n",
        "To enable **editing** of the notebook please make a copy of it and place it into your google drive. Please click on: `\"File\" -> \"Save a copy in Drive\"`. Allow access to your google drive if requested. "
      ]
    },
    {
      "cell_type": "markdown",
      "metadata": {
        "id": "HnFqitiyJ9Dp",
        "colab_type": "text"
      },
      "source": [
        "## Code cells <a name=\"code-cell\"></a>\n",
        "\n",
        "Below is a **code cell**. Once the toolbar button indicates CONNECTED on the right top, click in the cell to select it and execute the contents in the following ways:\n",
        "\n",
        "* Click the **Play icon** in the left gutter of the cell;\n",
        "* Type **Cmd/Ctrl+Enter** to run the cell in place;\n",
        "* Type **Shift+Enter** to run the cell and move focus to the next cell (adding one if none exists); or\n",
        "* Type **Alt+Enter** to run the cell and insert a new code cell immediately below it.\n",
        "\n",
        "There are additional options for running some or all cells in the **Runtime menu**."
      ]
    },
    {
      "cell_type": "code",
      "metadata": {
        "id": "ROq-kKxkgbP6",
        "colab_type": "code",
        "outputId": "40f16e4b-a08b-40d2-b151-1341018c0858",
        "colab": {
          "base_uri": "https://localhost:8080/",
          "height": 51
        }
      },
      "source": [
        "12\n",
        "a = 10 + 5\n",
        "a"
      ],
      "execution_count": 1,
      "outputs": [
        {
          "output_type": "display_data",
          "data": {
            "text/plain": [
              "[1] 12"
            ],
            "text/latex": "12",
            "text/markdown": "12",
            "text/html": [
              "12"
            ]
          },
          "metadata": {
            "tags": []
          }
        },
        {
          "output_type": "display_data",
          "data": {
            "text/plain": [
              "[1] 15"
            ],
            "text/latex": "15",
            "text/markdown": "15",
            "text/html": [
              "15"
            ]
          },
          "metadata": {
            "tags": []
          }
        }
      ]
    },
    {
      "cell_type": "markdown",
      "metadata": {
        "id": "C7pvWKnigmlW",
        "colab_type": "text"
      },
      "source": [
        "## Text cells <a name=\"text-cell\"></a>\n",
        "This is a **text cell**. You can **double-click** to edit this cell. Text cells\n",
        "use markdown syntax. To learn more, see our [markdown\n",
        "guide](/notebooks/markdown_guide.ipynb).\n",
        "\n",
        "You can also add math to text cells using [LaTeX](http://www.latex-project.org/)\n",
        "to be rendered by [MathJax](https://www.mathjax.org). Just place the statement\n",
        "within a pair of **\\$** signs. For example `$\\sqrt{3x-1}+(1+x)^2$` becomes\n",
        "$\\sqrt{3x-1}+(1+x)^2.$"
      ]
    },
    {
      "cell_type": "markdown",
      "metadata": {
        "id": "Lj-zTO2bJuHh",
        "colab_type": "text"
      },
      "source": [
        "## Adding and moving cells <a name=\"adding-cells\"></a>\n",
        "\n",
        "You can add new cells by using the **+ CODE** and **+ TEXT** buttons that show when you hover between cells. These buttons are also in the toolbar above the notebook where they can be used to add a cell below the currently selected cell.\n",
        "\n",
        "You can move a cell by selecting it and clicking **Cell Up** or **Cell Down** in the top toolbar."
      ]
    },
    {
      "cell_type": "markdown",
      "metadata": {
        "id": "Yfa2MrYHJx9L",
        "colab_type": "text"
      },
      "source": [
        "## Navigation bar\n",
        "\n",
        "If you click on the left top corner on the arrow a navigation bar will open. The navigation bar contains the table of content and links the sections. Additionally under the `Files` tab one can browse all files in the virtual machine as well as up- and download files. Mounting of the google drive is only available in a python notebook right now."
      ]
    },
    {
      "cell_type": "markdown",
      "metadata": {
        "id": "84XbCsQ7n6Rr",
        "colab_type": "text"
      },
      "source": [
        "# Setup R environment <a name=\"setup-r\"></a>\n",
        "\n",
        "Since installing and compiling all necessary R packages can take a while, we precompiled them. By downloading our [`r-env-setup-script.R`](https://github.com/c-mertes/RNAseq-ASHG19/blob/master/r-env-setup-script.R) and running it, you setup and configure the virtual maschine for the workshop.\n",
        "\n",
        "Please run this command **before any analysis** and **each time you start a new session**!"
      ]
    },
    {
      "cell_type": "code",
      "metadata": {
        "id": "HM2XPVxvn5C5",
        "colab_type": "code",
        "outputId": "00422f8c-5723-48f7-9f3c-737d4a183144",
        "colab": {
          "base_uri": "https://localhost:8080/",
          "height": 85
        }
      },
      "source": [
        "download.file(\"https://raw.githubusercontent.com/c-mertes/RNAseq-ASHG19/master/r-env-setup-script.R\", \"r-env-setup-script.R\")\n",
        "source(\"r-env-setup-script.R\")"
      ],
      "execution_count": 7,
      "outputs": [
        {
          "output_type": "stream",
          "text": [
            "Update and install needed Ubuntu packages\n",
            "Download R package cache\n",
            "Unzipping R package cache\n",
            "Retrieve data for tutorials\n"
          ],
          "name": "stderr"
        }
      ]
    },
    {
      "cell_type": "markdown",
      "metadata": {
        "id": "RH09sYgJP5tC",
        "colab_type": "text"
      },
      "source": [
        "# OUTRIDER example <a name=\"outrider-example\"></a>"
      ]
    },
    {
      "cell_type": "markdown",
      "metadata": {
        "id": "QrGOQwehg3Rj",
        "colab_type": "text"
      },
      "source": [
        "This is the quick guide from the vignette of [`OUTRTIDER`](http://bioconductor.org/packages/release/bioc/html/OUTRIDER.html). For the full guide of `OUTRIDER` please have a look at the [vignette](http://bioconductor.org/packages/release/bioc/vignettes/OUTRIDER/inst/doc/OUTRIDER.pdf).\n",
        "\n",
        "First we have to install `OUTRIDER` if not done already."
      ]
    },
    {
      "cell_type": "code",
      "metadata": {
        "id": "FysTX57wnTiz",
        "colab_type": "code",
        "colab": {}
      },
      "source": [
        "if(!requireNamespace(\"BiocManager\", quietly=TRUE))\n",
        "    install.packages(\"BiocManager\")\n",
        "if(!requireNamespace(\"OUTRIDER\", quietly=TRUE))\n",
        "    BiocManager::install(\"OUTRIDER\", Ncpus=10)"
      ],
      "execution_count": 0,
      "outputs": []
    },
    {
      "cell_type": "markdown",
      "metadata": {
        "id": "tQPQq9SLhBtL",
        "colab_type": "text"
      },
      "source": [
        "Now we can run the example from the OUTRIDER vignette"
      ]
    },
    {
      "cell_type": "code",
      "metadata": {
        "id": "Z2PHb0KNEswv",
        "colab_type": "code",
        "outputId": "1408fa98-fe77-4bd9-b804-a55815ed78d1",
        "colab": {
          "base_uri": "https://localhost:8080/",
          "height": 1000
        }
      },
      "source": [
        "# load package\n",
        "library(OUTRIDER)"
      ],
      "execution_count": 0,
      "outputs": [
        {
          "output_type": "stream",
          "text": [
            "Loading required package: BiocParallel\n",
            "Loading required package: GenomicFeatures\n",
            "Loading required package: BiocGenerics\n",
            "Loading required package: parallel\n",
            "\n",
            "Attaching package: ‘BiocGenerics’\n",
            "\n",
            "The following objects are masked from ‘package:parallel’:\n",
            "\n",
            "    clusterApply, clusterApplyLB, clusterCall, clusterEvalQ,\n",
            "    clusterExport, clusterMap, parApply, parCapply, parLapply,\n",
            "    parLapplyLB, parRapply, parSapply, parSapplyLB\n",
            "\n",
            "The following objects are masked from ‘package:stats’:\n",
            "\n",
            "    IQR, mad, sd, var, xtabs\n",
            "\n",
            "The following objects are masked from ‘package:base’:\n",
            "\n",
            "    anyDuplicated, append, as.data.frame, basename, cbind, colnames,\n",
            "    dirname, do.call, duplicated, eval, evalq, Filter, Find, get, grep,\n",
            "    grepl, intersect, is.unsorted, lapply, Map, mapply, match, mget,\n",
            "    order, paste, pmax, pmax.int, pmin, pmin.int, Position, rank,\n",
            "    rbind, Reduce, rownames, sapply, setdiff, sort, table, tapply,\n",
            "    union, unique, unsplit, which, which.max, which.min\n",
            "\n",
            "Loading required package: S4Vectors\n",
            "Loading required package: stats4\n",
            "\n",
            "Attaching package: ‘S4Vectors’\n",
            "\n",
            "The following object is masked from ‘package:base’:\n",
            "\n",
            "    expand.grid\n",
            "\n",
            "Loading required package: IRanges\n",
            "Loading required package: GenomeInfoDb\n",
            "Loading required package: GenomicRanges\n",
            "Loading required package: AnnotationDbi\n",
            "Loading required package: Biobase\n",
            "Welcome to Bioconductor\n",
            "\n",
            "    Vignettes contain introductory material; view with\n",
            "    'browseVignettes()'. To cite Bioconductor, see\n",
            "    'citation(\"Biobase\")', and for packages 'citation(\"pkgname\")'.\n",
            "\n",
            "Loading required package: SummarizedExperiment\n",
            "Loading required package: DelayedArray\n",
            "Loading required package: matrixStats\n",
            "\n",
            "Attaching package: ‘matrixStats’\n",
            "\n",
            "The following objects are masked from ‘package:Biobase’:\n",
            "\n",
            "    anyMissing, rowMedians\n",
            "\n",
            "\n",
            "Attaching package: ‘DelayedArray’\n",
            "\n",
            "The following objects are masked from ‘package:matrixStats’:\n",
            "\n",
            "    colMaxs, colMins, colRanges, rowMaxs, rowMins, rowRanges\n",
            "\n",
            "The following objects are masked from ‘package:base’:\n",
            "\n",
            "    aperm, apply, rowsum\n",
            "\n",
            "Loading required package: data.table\n",
            "\n",
            "Attaching package: ‘data.table’\n",
            "\n",
            "The following object is masked from ‘package:SummarizedExperiment’:\n",
            "\n",
            "    shift\n",
            "\n",
            "The following object is masked from ‘package:GenomicRanges’:\n",
            "\n",
            "    shift\n",
            "\n",
            "The following object is masked from ‘package:IRanges’:\n",
            "\n",
            "    shift\n",
            "\n",
            "The following objects are masked from ‘package:S4Vectors’:\n",
            "\n",
            "    first, second\n",
            "\n"
          ],
          "name": "stderr"
        }
      ]
    },
    {
      "cell_type": "code",
      "metadata": {
        "id": "8VMmXh9UFGlF",
        "colab_type": "code",
        "colab": {}
      },
      "source": [
        "# load raw count and sample data\n",
        "ctsFile <- system.file('extdata', 'KremerNBaderSmall.tsv', package='OUTRIDER')\n",
        "ctsTable <- read.table(ctsFile, check.names=FALSE)\n",
        "ods <- OutriderDataSet(countData=ctsTable)"
      ],
      "execution_count": 0,
      "outputs": []
    },
    {
      "cell_type": "markdown",
      "metadata": {
        "id": "jmldOX2eCkxc",
        "colab_type": "text"
      },
      "source": [
        "The `ods` object contains now all information needed for the analysis."
      ]
    },
    {
      "cell_type": "code",
      "metadata": {
        "id": "rsnhPYAMCkWC",
        "colab_type": "code",
        "outputId": "43baad1f-ec60-4f90-f0bf-40379c6f7c81",
        "colab": {
          "base_uri": "https://localhost:8080/",
          "height": 170
        }
      },
      "source": [
        "ods"
      ],
      "execution_count": 11,
      "outputs": [
        {
          "output_type": "display_data",
          "data": {
            "text/plain": [
              "class: OutriderDataSet\n",
              "class: RangedSummarizedExperiment \n",
              "dim: 999 119 \n",
              "metadata(1): version\n",
              "assays(1): counts\n",
              "rownames(999): DDX11L1 OR4F5 ... GORAB PRRX1\n",
              "rowData names(0):\n",
              "colnames(119): 65937 66623 ... MUC1412 MUC1436\n",
              "colData names(1): sampleID"
            ]
          },
          "metadata": {
            "tags": []
          }
        }
      ]
    },
    {
      "cell_type": "markdown",
      "metadata": {
        "id": "BdxXdvJkCuZu",
        "colab_type": "text"
      },
      "source": [
        "Before we start the analysis, we should cleanup the data first."
      ]
    },
    {
      "cell_type": "code",
      "metadata": {
        "id": "0FZD4rX-CvIh",
        "colab_type": "code",
        "outputId": "8c644b8c-accf-4e62-91ea-14ba6a8e4eef",
        "colab": {
          "base_uri": "https://localhost:8080/",
          "height": 34
        }
      },
      "source": [
        "# filter out non expressed genes\n",
        "ods <- filterExpression(ods, minCounts=TRUE, filterGenes=TRUE)"
      ],
      "execution_count": 12,
      "outputs": [
        {
          "output_type": "stream",
          "text": [
            "229 genes did not passed the filter due to zero counts. This is 22.9% of the genes.\n"
          ],
          "name": "stderr"
        }
      ]
    },
    {
      "cell_type": "markdown",
      "metadata": {
        "id": "P3KLCbnt_LUq",
        "colab_type": "text"
      },
      "source": [
        "Now we can fit our autoencoder model and compute p-values"
      ]
    },
    {
      "cell_type": "code",
      "metadata": {
        "id": "Uop_3191C6Xc",
        "colab_type": "code",
        "outputId": "de11d148-fca8-49ae-a81a-cd3f0fe3202f",
        "colab": {
          "base_uri": "https://localhost:8080/",
          "height": 442
        }
      },
      "source": [
        "# run full OUTRIDER pipeline (control, fit model, calculate P-values)\n",
        "ods <- OUTRIDER(ods)"
      ],
      "execution_count": 13,
      "outputs": [
        {
          "output_type": "stream",
          "text": [
            "Tue Sep 17 16:10:56 2019: SizeFactor estimation ...\n",
            "Tue Sep 17 16:10:56 2019: Controlling for confounders ...\n",
            "Using estimated q with: 23\n",
            "Tue Sep 17 16:10:56 2019: Using the autoencoder implementation for controlling.\n"
          ],
          "name": "stderr"
        },
        {
          "output_type": "stream",
          "text": [
            "[1] \"Initial PCA loss: 4.73997327486604\"\n",
            "[1] \"Tue Sep 17 16:11:05 2019: Iteration: 1 loss: 4.19420176347389\"\n",
            "[1] \"Tue Sep 17 16:11:11 2019: Iteration: 2 loss: 4.17541637937258\"\n",
            "[1] \"Tue Sep 17 16:11:17 2019: Iteration: 3 loss: 4.16668083154231\"\n",
            "[1] \"Tue Sep 17 16:11:21 2019: Iteration: 4 loss: 4.16168475878948\"\n",
            "[1] \"Tue Sep 17 16:11:26 2019: Iteration: 5 loss: 4.15818241183266\"\n",
            "[1] \"Tue Sep 17 16:11:30 2019: Iteration: 6 loss: 4.15517708197128\"\n",
            "[1] \"Tue Sep 17 16:11:33 2019: Iteration: 7 loss: 4.15376155696813\"\n",
            "[1] \"Tue Sep 17 16:11:36 2019: Iteration: 8 loss: 4.15212109677942\"\n",
            "[1] \"Tue Sep 17 16:11:38 2019: Iteration: 9 loss: 4.1514124667338\"\n",
            "[1] \"Tue Sep 17 16:11:41 2019: Iteration: 10 loss: 4.15014386823515\"\n",
            "[1] \"Tue Sep 17 16:11:45 2019: Iteration: 11 loss: 4.14903657396566\"\n",
            "[1] \"Tue Sep 17 16:11:46 2019: Iteration: 12 loss: 4.1489255483735\"\n",
            "[1] \"Tue Sep 17 16:11:49 2019: Iteration: 13 loss: 4.14840298639519\"\n",
            "[1] \"Tue Sep 17 16:11:52 2019: Iteration: 14 loss: 4.14758741749373\"\n",
            "[1] \"Tue Sep 17 16:11:54 2019: Iteration: 15 loss: 4.14724998623427\"\n",
            "Time difference of 54.65111 secs\n",
            "[1] \"15 Final nb-AE loss: 4.14724998623427\"\n"
          ],
          "name": "stdout"
        },
        {
          "output_type": "stream",
          "text": [
            "Tue Sep 17 16:11:54 2019: Used the autoencoder implementation for controlling.\n",
            "Tue Sep 17 16:11:54 2019: P-value calculation ...\n",
            "Tue Sep 17 16:11:54 2019: Zscore calculation ...\n"
          ],
          "name": "stderr"
        }
      ]
    },
    {
      "cell_type": "markdown",
      "metadata": {
        "id": "lNqnvYUhDBlJ",
        "colab_type": "text"
      },
      "source": [
        "Lets have now a look at the results. They can be retrived by running `results()`."
      ]
    },
    {
      "cell_type": "code",
      "metadata": {
        "id": "2EG0qrSoC9qd",
        "colab_type": "code",
        "outputId": "73089fa8-bb7b-4ef2-a1d9-6fcf0f22ff00",
        "colab": {
          "base_uri": "https://localhost:8080/",
          "height": 204
        }
      },
      "source": [
        "# results (only significant)\n",
        "res <- results(ods)\n",
        "head(res)"
      ],
      "execution_count": 15,
      "outputs": [
        {
          "output_type": "display_data",
          "data": {
            "text/plain": [
              "  geneID sampleID pValue       padjust      zScore l2fc  rawcounts normcounts\n",
              "1 ATAD3C MUC1360  2.675153e-11 1.488101e-07  5.27   1.87  948       427.16   \n",
              "2 NBPF15 MUC1351  8.074783e-10 4.491741e-06  5.75   0.77 7591      7076.37   \n",
              "3 MSTO1  MUC1367  3.622801e-09 2.015247e-05 -6.24  -0.81  761       855.71   \n",
              "4 HDAC1  MUC1350  2.106800e-08 1.171944e-04 -5.87  -0.77 2215      2415.29   \n",
              "5 DCAF6  MUC1374  7.504589e-08 4.174560e-04 -5.67  -0.62 2348      2967.15   \n",
              "6 NBPF16 MUC1351  2.724963e-07 7.579044e-04  4.81   0.67 4014      3771.55   \n",
              "  meanCorrected theta  aberrant AberrantBySample AberrantByGene padj_rank\n",
              "1  140.42        16.57 TRUE     1                1              1        \n",
              "2 4366.88       111.74 TRUE     2                1              1        \n",
              "3 1474.27       152.99 TRUE     1                1              1        \n",
              "4 3992.99       136.63 TRUE     1                1              1        \n",
              "5 4497.43       195.42 TRUE     1                1              1        \n",
              "6 2478.55       107.39 TRUE     2                1              2        "
            ],
            "text/latex": "A data.table: 6 × 14\n\\begin{tabular}{r|llllllllllllll}\n geneID & sampleID & pValue & padjust & zScore & l2fc & rawcounts & normcounts & meanCorrected & theta & aberrant & AberrantBySample & AberrantByGene & padj\\_rank\\\\\n <chr> & <chr> & <dbl> & <dbl> & <dbl> & <dbl> & <int> & <dbl> & <dbl> & <dbl> & <lgl> & <dbl> & <dbl> & <dbl>\\\\\n\\hline\n\t ATAD3C & MUC1360 & 2.675153e-11 & 1.488101e-07 &  5.27 &  1.87 &  948 &  427.16 &  140.42 &  16.57 & TRUE & 1 & 1 & 1\\\\\n\t NBPF15 & MUC1351 & 8.074783e-10 & 4.491741e-06 &  5.75 &  0.77 & 7591 & 7076.37 & 4366.88 & 111.74 & TRUE & 2 & 1 & 1\\\\\n\t MSTO1  & MUC1367 & 3.622801e-09 & 2.015247e-05 & -6.24 & -0.81 &  761 &  855.71 & 1474.27 & 152.99 & TRUE & 1 & 1 & 1\\\\\n\t HDAC1  & MUC1350 & 2.106800e-08 & 1.171944e-04 & -5.87 & -0.77 & 2215 & 2415.29 & 3992.99 & 136.63 & TRUE & 1 & 1 & 1\\\\\n\t DCAF6  & MUC1374 & 7.504589e-08 & 4.174560e-04 & -5.67 & -0.62 & 2348 & 2967.15 & 4497.43 & 195.42 & TRUE & 1 & 1 & 1\\\\\n\t NBPF16 & MUC1351 & 2.724963e-07 & 7.579044e-04 &  4.81 &  0.67 & 4014 & 3771.55 & 2478.55 & 107.39 & TRUE & 2 & 1 & 2\\\\\n\\end{tabular}\n",
            "text/markdown": "\nA data.table: 6 × 14\n\n| geneID &lt;chr&gt; | sampleID &lt;chr&gt; | pValue &lt;dbl&gt; | padjust &lt;dbl&gt; | zScore &lt;dbl&gt; | l2fc &lt;dbl&gt; | rawcounts &lt;int&gt; | normcounts &lt;dbl&gt; | meanCorrected &lt;dbl&gt; | theta &lt;dbl&gt; | aberrant &lt;lgl&gt; | AberrantBySample &lt;dbl&gt; | AberrantByGene &lt;dbl&gt; | padj_rank &lt;dbl&gt; |\n|---|---|---|---|---|---|---|---|---|---|---|---|---|---|\n| ATAD3C | MUC1360 | 2.675153e-11 | 1.488101e-07 |  5.27 |  1.87 |  948 |  427.16 |  140.42 |  16.57 | TRUE | 1 | 1 | 1 |\n| NBPF15 | MUC1351 | 8.074783e-10 | 4.491741e-06 |  5.75 |  0.77 | 7591 | 7076.37 | 4366.88 | 111.74 | TRUE | 2 | 1 | 1 |\n| MSTO1  | MUC1367 | 3.622801e-09 | 2.015247e-05 | -6.24 | -0.81 |  761 |  855.71 | 1474.27 | 152.99 | TRUE | 1 | 1 | 1 |\n| HDAC1  | MUC1350 | 2.106800e-08 | 1.171944e-04 | -5.87 | -0.77 | 2215 | 2415.29 | 3992.99 | 136.63 | TRUE | 1 | 1 | 1 |\n| DCAF6  | MUC1374 | 7.504589e-08 | 4.174560e-04 | -5.67 | -0.62 | 2348 | 2967.15 | 4497.43 | 195.42 | TRUE | 1 | 1 | 1 |\n| NBPF16 | MUC1351 | 2.724963e-07 | 7.579044e-04 |  4.81 |  0.67 | 4014 | 3771.55 | 2478.55 | 107.39 | TRUE | 2 | 1 | 2 |\n\n",
            "text/html": [
              "<table>\n",
              "<caption>A data.table: 6 × 14</caption>\n",
              "<thead>\n",
              "\t<tr><th scope=col>geneID</th><th scope=col>sampleID</th><th scope=col>pValue</th><th scope=col>padjust</th><th scope=col>zScore</th><th scope=col>l2fc</th><th scope=col>rawcounts</th><th scope=col>normcounts</th><th scope=col>meanCorrected</th><th scope=col>theta</th><th scope=col>aberrant</th><th scope=col>AberrantBySample</th><th scope=col>AberrantByGene</th><th scope=col>padj_rank</th></tr>\n",
              "\t<tr><th scope=col>&lt;chr&gt;</th><th scope=col>&lt;chr&gt;</th><th scope=col>&lt;dbl&gt;</th><th scope=col>&lt;dbl&gt;</th><th scope=col>&lt;dbl&gt;</th><th scope=col>&lt;dbl&gt;</th><th scope=col>&lt;int&gt;</th><th scope=col>&lt;dbl&gt;</th><th scope=col>&lt;dbl&gt;</th><th scope=col>&lt;dbl&gt;</th><th scope=col>&lt;lgl&gt;</th><th scope=col>&lt;dbl&gt;</th><th scope=col>&lt;dbl&gt;</th><th scope=col>&lt;dbl&gt;</th></tr>\n",
              "</thead>\n",
              "<tbody>\n",
              "\t<tr><td>ATAD3C</td><td>MUC1360</td><td>2.675153e-11</td><td>1.488101e-07</td><td> 5.27</td><td> 1.87</td><td> 948</td><td> 427.16</td><td> 140.42</td><td> 16.57</td><td>TRUE</td><td>1</td><td>1</td><td>1</td></tr>\n",
              "\t<tr><td>NBPF15</td><td>MUC1351</td><td>8.074783e-10</td><td>4.491741e-06</td><td> 5.75</td><td> 0.77</td><td>7591</td><td>7076.37</td><td>4366.88</td><td>111.74</td><td>TRUE</td><td>2</td><td>1</td><td>1</td></tr>\n",
              "\t<tr><td>MSTO1 </td><td>MUC1367</td><td>3.622801e-09</td><td>2.015247e-05</td><td>-6.24</td><td>-0.81</td><td> 761</td><td> 855.71</td><td>1474.27</td><td>152.99</td><td>TRUE</td><td>1</td><td>1</td><td>1</td></tr>\n",
              "\t<tr><td>HDAC1 </td><td>MUC1350</td><td>2.106800e-08</td><td>1.171944e-04</td><td>-5.87</td><td>-0.77</td><td>2215</td><td>2415.29</td><td>3992.99</td><td>136.63</td><td>TRUE</td><td>1</td><td>1</td><td>1</td></tr>\n",
              "\t<tr><td>DCAF6 </td><td>MUC1374</td><td>7.504589e-08</td><td>4.174560e-04</td><td>-5.67</td><td>-0.62</td><td>2348</td><td>2967.15</td><td>4497.43</td><td>195.42</td><td>TRUE</td><td>1</td><td>1</td><td>1</td></tr>\n",
              "\t<tr><td>NBPF16</td><td>MUC1351</td><td>2.724963e-07</td><td>7.579044e-04</td><td> 4.81</td><td> 0.67</td><td>4014</td><td>3771.55</td><td>2478.55</td><td>107.39</td><td>TRUE</td><td>2</td><td>1</td><td>2</td></tr>\n",
              "</tbody>\n",
              "</table>\n"
            ]
          },
          "metadata": {
            "tags": []
          }
        }
      ]
    },
    {
      "cell_type": "markdown",
      "metadata": {
        "id": "QdLm_m9nZJz-",
        "colab_type": "text"
      },
      "source": [
        "We can also look into more details on a specific gene or sample "
      ]
    },
    {
      "cell_type": "code",
      "metadata": {
        "id": "Mgn4mXIbDeL6",
        "colab_type": "code",
        "outputId": "262eb5ee-887f-4214-af74-688965522818",
        "colab": {
          "base_uri": "https://localhost:8080/",
          "height": 977
        }
      },
      "source": [
        "# Options to define plots size\n",
        "options(repr.plot.width=8, repr.plot.height=8)\n",
        "par(mfrow=c(2,2))\n",
        "\n",
        "# example gene expression plot across samples\n",
        "plotExpressionRank(ods, res[5, geneID], normalize=FALSE, base=TRUE)\n",
        "plotExpressionRank(ods, res[5, geneID], normalize=TRUE, base=TRUE)\n",
        "# TODO add observed vs prediction plot after updating OUTRIDER at bioconductor\n",
        "\n",
        "# a quantile-quantile plot to check if the modeling worked\n",
        "plotQQ(ods, res[5, geneID])"
      ],
      "execution_count": 38,
      "outputs": [
        {
          "output_type": "display_data",
          "data": {
            "image/png": "[encoded data removed]",
            "text/plain": [
              "Plot with title \"Q-Q plot for gene: DCAF6\""
            ]
          },
          "metadata": {
            "tags": []
          }
        }
      ]
    },
    {
      "cell_type": "markdown",
      "metadata": {
        "id": "-bp0SEiEHjJP",
        "colab_type": "text"
      },
      "source": [
        "# Exercise <a name=\"Exercise\"></a>\n",
        "\n",
        "If you want to check if you got the IPython notebook idea and a bit of R programming, you can start now your own analysis by editing this notebook.\n",
        "\n",
        "We give you 3 tasks you should be able to manage:\n",
        "\n",
        "1. Add a new code cell and plot a volcano plot (function: plotVolcano) for sample `MUC1350` with parameter `base=TRUE`\n",
        "1. Write a comment (text cell) that you will now display the gene names found significant in the analysis\n",
        "1. Print the gene names (column: geneID) from the results table (object: res) and furthermore print the number of genes in total in `res` (function: nrow)\n"
      ]
    },
    {
      "cell_type": "code",
      "metadata": {
        "id": "O3rPscbTjT85",
        "colab_type": "code",
        "colab": {}
      },
      "source": [
        "# Options to define plots size\n",
        "options(repr.plot.width=4, repr.plot.height=4)\n",
        "\n",
        "# have fun coding here\n"
      ],
      "execution_count": 0,
      "outputs": []
    }
  ]
}